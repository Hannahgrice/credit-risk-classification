# Import the modules
import numpy as np
import pandas as pd
from pathlib import Path
from sklearn.metrics import confusion_matrix, classification_report











# Read the CSV file from the Resources folder into a Pandas DataFrame
# YOUR CODE HERE!
path = ("Resources/lending_data.csv")
df = pd.read_csv(path)

# Review the DataFrame
df.head()





# Separate the y variable, the labels
y = df["loan_status"]

# Separate the X variable, the features
X = df.copy()
X.drop("loan_status", axis=1, inplace=True)


# Review the y variable Series
y[:10]


# Review the X variable DataFrame
X.head()





# Import the train_test_learn module
from sklearn.model_selection import train_test_split

# Split the data using train_test_split
# Assign a random_state of 1 to the function
X_train, X_test, y_train, y_test = train_test_split(X, y, random_state=1)











# Import the LogisticRegression module from SKLearn
from sklearn.linear_model import LogisticRegression

# Instantiate the Logistic Regression model
# Assign a random_state parameter of 1 to the model
classifier = LogisticRegression(solver='lbfgs', max_iter=200, random_state=1)

# Fit the model using training data
classifier.fit(X_train, y_train)





# Make a prediction using the testing data
predictions = classifier.predict(X_test)
predictions





# Generate a confusion matrix for the model
confusion_matrix(predictions,y_test)


# Print the classification report for the model
print(classification_report(predictions,y_test))









